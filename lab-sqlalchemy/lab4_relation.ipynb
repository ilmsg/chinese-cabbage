{
 "cells": [
  {
   "cell_type": "code",
   "execution_count": 16,
   "metadata": {},
   "outputs": [],
   "source": [
    "from sqlalchemy import create_engine, Column, Integer, String, Float\n",
    "from sqlalchemy.orm import Session, declarative_base"
   ]
  },
  {
   "cell_type": "code",
   "execution_count": 17,
   "metadata": {},
   "outputs": [],
   "source": [
    "db_url = \"sqlite:///cmsstock.db\"\n",
    "engine = create_engine(db_url, echo=True)"
   ]
  },
  {
   "cell_type": "code",
   "execution_count": 18,
   "metadata": {},
   "outputs": [],
   "source": [
    "session = Session(bind=engine)"
   ]
  },
  {
   "cell_type": "code",
   "execution_count": 19,
   "metadata": {},
   "outputs": [],
   "source": [
    "Base = declarative_base()"
   ]
  },
  {
   "cell_type": "code",
   "execution_count": 20,
   "metadata": {},
   "outputs": [],
   "source": [
    "class Product(Base):\n",
    "    __tablename__ = \"products\"\n",
    "    id = Column(Integer, primary_key=True)\n",
    "    name = Column(String, nullable=False)\n",
    "    price = Column(Float, nullable=False)\n",
    "    qty = Column(Integer, nullable=False)"
   ]
  },
  {
   "cell_type": "code",
   "execution_count": 21,
   "metadata": {},
   "outputs": [
    {
     "name": "stdout",
     "output_type": "stream",
     "text": [
      "2024-12-17 18:50:42,594 INFO sqlalchemy.engine.Engine BEGIN (implicit)\n",
      "2024-12-17 18:50:42,596 INFO sqlalchemy.engine.Engine PRAGMA main.table_info(\"products\")\n",
      "2024-12-17 18:50:42,607 INFO sqlalchemy.engine.Engine [raw sql] ()\n",
      "2024-12-17 18:50:42,609 INFO sqlalchemy.engine.Engine PRAGMA temp.table_info(\"products\")\n",
      "2024-12-17 18:50:42,610 INFO sqlalchemy.engine.Engine [raw sql] ()\n",
      "2024-12-17 18:50:42,615 INFO sqlalchemy.engine.Engine \n",
      "CREATE TABLE products (\n",
      "\tid INTEGER NOT NULL, \n",
      "\tname VARCHAR NOT NULL, \n",
      "\tprice FLOAT NOT NULL, \n",
      "\tqty INTEGER NOT NULL, \n",
      "\tPRIMARY KEY (id)\n",
      ")\n",
      "\n",
      "\n",
      "2024-12-17 18:50:42,616 INFO sqlalchemy.engine.Engine [no key 0.00124s] ()\n",
      "2024-12-17 18:50:42,819 INFO sqlalchemy.engine.Engine COMMIT\n"
     ]
    }
   ],
   "source": [
    "Base.metadata.create_all(engine)"
   ]
  }
 ],
 "metadata": {
  "kernelspec": {
   "display_name": "Python 3",
   "language": "python",
   "name": "python3"
  },
  "language_info": {
   "codemirror_mode": {
    "name": "ipython",
    "version": 3
   },
   "file_extension": ".py",
   "mimetype": "text/x-python",
   "name": "python",
   "nbconvert_exporter": "python",
   "pygments_lexer": "ipython3",
   "version": "3.11.11"
  }
 },
 "nbformat": 4,
 "nbformat_minor": 2
}
