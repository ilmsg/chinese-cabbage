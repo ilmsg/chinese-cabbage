{
 "cells": [
  {
   "cell_type": "markdown",
   "metadata": {},
   "source": [
    "#### เตรียมพร้อม, ติดตั้ง library, ตั้งค่าไพล์ .env"
   ]
  },
  {
   "cell_type": "code",
   "execution_count": 2,
   "metadata": {},
   "outputs": [
    {
     "name": "stdout",
     "output_type": "stream",
     "text": [
      "cp: option '--update' doesn't allow an argument\n",
      "Try 'cp --help' for more information.\n"
     ]
    }
   ],
   "source": [
    "%cp --update=none .env.example .env"
   ]
  },
  {
   "cell_type": "code",
   "execution_count": 3,
   "metadata": {},
   "outputs": [
    {
     "name": "stdout",
     "output_type": "stream",
     "text": [
      "Defaulting to user installation because normal site-packages is not writeable\n",
      "Requirement already satisfied: Flask==3.1.0 in /home/ilmsg/.local/lib/python3.11/site-packages (from -r requirements.txt (line 1)) (3.1.0)\n",
      "Requirement already satisfied: google-generativeai==0.8.3 in /home/ilmsg/.local/lib/python3.11/site-packages (from -r requirements.txt (line 2)) (0.8.3)\n",
      "Requirement already satisfied: gunicorn==23.0.0 in /home/ilmsg/.local/lib/python3.11/site-packages (from -r requirements.txt (line 3)) (23.0.0)\n",
      "Requirement already satisfied: line-bot-sdk==3.14.2 in /home/ilmsg/.local/lib/python3.11/site-packages (from -r requirements.txt (line 4)) (3.14.2)\n",
      "Requirement already satisfied: python-dotenv==1.0.1 in /home/ilmsg/.local/lib/python3.11/site-packages (from -r requirements.txt (line 5)) (1.0.1)\n",
      "Requirement already satisfied: Werkzeug>=3.1 in /home/ilmsg/.local/lib/python3.11/site-packages (from Flask==3.1.0->-r requirements.txt (line 1)) (3.1.3)\n",
      "Requirement already satisfied: Jinja2>=3.1.2 in /home/ilmsg/.local/lib/python3.11/site-packages (from Flask==3.1.0->-r requirements.txt (line 1)) (3.1.4)\n",
      "Requirement already satisfied: itsdangerous>=2.2 in /home/ilmsg/.local/lib/python3.11/site-packages (from Flask==3.1.0->-r requirements.txt (line 1)) (2.2.0)\n",
      "Requirement already satisfied: click>=8.1.3 in /home/ilmsg/.local/lib/python3.11/site-packages (from Flask==3.1.0->-r requirements.txt (line 1)) (8.1.7)\n",
      "Requirement already satisfied: blinker>=1.9 in /home/ilmsg/.local/lib/python3.11/site-packages (from Flask==3.1.0->-r requirements.txt (line 1)) (1.9.0)\n",
      "Requirement already satisfied: google-ai-generativelanguage==0.6.10 in /home/ilmsg/.local/lib/python3.11/site-packages (from google-generativeai==0.8.3->-r requirements.txt (line 2)) (0.6.10)\n",
      "Requirement already satisfied: google-api-core in /home/ilmsg/.local/lib/python3.11/site-packages (from google-generativeai==0.8.3->-r requirements.txt (line 2)) (2.24.0)\n",
      "Requirement already satisfied: google-api-python-client in /home/ilmsg/.local/lib/python3.11/site-packages (from google-generativeai==0.8.3->-r requirements.txt (line 2)) (2.156.0)\n",
      "Requirement already satisfied: google-auth>=2.15.0 in /home/ilmsg/.local/lib/python3.11/site-packages (from google-generativeai==0.8.3->-r requirements.txt (line 2)) (2.37.0)\n",
      "Requirement already satisfied: protobuf in /home/ilmsg/.local/lib/python3.11/site-packages (from google-generativeai==0.8.3->-r requirements.txt (line 2)) (5.29.2)\n",
      "Requirement already satisfied: pydantic in /home/ilmsg/.local/lib/python3.11/site-packages (from google-generativeai==0.8.3->-r requirements.txt (line 2)) (2.10.4)\n",
      "Requirement already satisfied: tqdm in /home/ilmsg/.local/lib/python3.11/site-packages (from google-generativeai==0.8.3->-r requirements.txt (line 2)) (4.67.1)\n",
      "Requirement already satisfied: typing-extensions in /home/ilmsg/.local/lib/python3.11/site-packages (from google-generativeai==0.8.3->-r requirements.txt (line 2)) (4.12.2)\n",
      "Requirement already satisfied: packaging in /usr/lib/python3/dist-packages (from gunicorn==23.0.0->-r requirements.txt (line 3)) (20.3)\n",
      "Requirement already satisfied: requests<3,>=2.32.3 in /home/ilmsg/.local/lib/python3.11/site-packages (from line-bot-sdk==3.14.2->-r requirements.txt (line 4)) (2.32.3)\n",
      "Requirement already satisfied: urllib3<3,>=2.0.5 in /home/ilmsg/.local/lib/python3.11/site-packages (from line-bot-sdk==3.14.2->-r requirements.txt (line 4)) (2.2.3)\n",
      "Requirement already satisfied: aiohttp>=3.10.9 in /home/ilmsg/.local/lib/python3.11/site-packages (from line-bot-sdk==3.14.2->-r requirements.txt (line 4)) (3.11.10)\n",
      "Requirement already satisfied: future in /home/ilmsg/.local/lib/python3.11/site-packages (from line-bot-sdk==3.14.2->-r requirements.txt (line 4)) (1.0.0)\n",
      "Requirement already satisfied: aenum>=3.1.11 in /home/ilmsg/.local/lib/python3.11/site-packages (from line-bot-sdk==3.14.2->-r requirements.txt (line 4)) (3.1.15)\n",
      "Requirement already satisfied: python-dateutil>=2.5.3 in /home/ilmsg/.local/lib/python3.11/site-packages (from line-bot-sdk==3.14.2->-r requirements.txt (line 4)) (2.9.0.post0)\n",
      "Requirement already satisfied: Deprecated in /home/ilmsg/.local/lib/python3.11/site-packages (from line-bot-sdk==3.14.2->-r requirements.txt (line 4)) (1.2.15)\n",
      "Requirement already satisfied: proto-plus<2.0.0dev,>=1.22.3 in /home/ilmsg/.local/lib/python3.11/site-packages (from google-ai-generativelanguage==0.6.10->google-generativeai==0.8.3->-r requirements.txt (line 2)) (1.25.0)\n",
      "Requirement already satisfied: aiohappyeyeballs>=2.3.0 in /home/ilmsg/.local/lib/python3.11/site-packages (from aiohttp>=3.10.9->line-bot-sdk==3.14.2->-r requirements.txt (line 4)) (2.4.4)\n",
      "Requirement already satisfied: aiosignal>=1.1.2 in /home/ilmsg/.local/lib/python3.11/site-packages (from aiohttp>=3.10.9->line-bot-sdk==3.14.2->-r requirements.txt (line 4)) (1.3.2)\n",
      "Requirement already satisfied: attrs>=17.3.0 in /usr/lib/python3/dist-packages (from aiohttp>=3.10.9->line-bot-sdk==3.14.2->-r requirements.txt (line 4)) (19.3.0)\n",
      "Requirement already satisfied: frozenlist>=1.1.1 in /home/ilmsg/.local/lib/python3.11/site-packages (from aiohttp>=3.10.9->line-bot-sdk==3.14.2->-r requirements.txt (line 4)) (1.5.0)\n",
      "Requirement already satisfied: multidict<7.0,>=4.5 in /home/ilmsg/.local/lib/python3.11/site-packages (from aiohttp>=3.10.9->line-bot-sdk==3.14.2->-r requirements.txt (line 4)) (6.1.0)\n",
      "Requirement already satisfied: propcache>=0.2.0 in /home/ilmsg/.local/lib/python3.11/site-packages (from aiohttp>=3.10.9->line-bot-sdk==3.14.2->-r requirements.txt (line 4)) (0.2.1)\n",
      "Requirement already satisfied: yarl<2.0,>=1.17.0 in /home/ilmsg/.local/lib/python3.11/site-packages (from aiohttp>=3.10.9->line-bot-sdk==3.14.2->-r requirements.txt (line 4)) (1.18.3)\n",
      "Requirement already satisfied: googleapis-common-protos<2.0.dev0,>=1.56.2 in /home/ilmsg/.local/lib/python3.11/site-packages (from google-api-core->google-generativeai==0.8.3->-r requirements.txt (line 2)) (1.66.0)\n",
      "Requirement already satisfied: cachetools<6.0,>=2.0.0 in /home/ilmsg/.local/lib/python3.11/site-packages (from google-auth>=2.15.0->google-generativeai==0.8.3->-r requirements.txt (line 2)) (5.5.0)\n",
      "Requirement already satisfied: pyasn1-modules>=0.2.1 in /usr/lib/python3/dist-packages (from google-auth>=2.15.0->google-generativeai==0.8.3->-r requirements.txt (line 2)) (0.2.1)\n",
      "Requirement already satisfied: rsa<5,>=3.1.4 in /home/ilmsg/.local/lib/python3.11/site-packages (from google-auth>=2.15.0->google-generativeai==0.8.3->-r requirements.txt (line 2)) (4.9)\n",
      "Requirement already satisfied: MarkupSafe>=2.0 in /home/ilmsg/.local/lib/python3.11/site-packages (from Jinja2>=3.1.2->Flask==3.1.0->-r requirements.txt (line 1)) (3.0.2)\n",
      "Requirement already satisfied: annotated-types>=0.6.0 in /home/ilmsg/.local/lib/python3.11/site-packages (from pydantic->google-generativeai==0.8.3->-r requirements.txt (line 2)) (0.7.0)\n",
      "Requirement already satisfied: pydantic-core==2.27.2 in /home/ilmsg/.local/lib/python3.11/site-packages (from pydantic->google-generativeai==0.8.3->-r requirements.txt (line 2)) (2.27.2)\n",
      "Requirement already satisfied: six>=1.5 in /usr/lib/python3/dist-packages (from python-dateutil>=2.5.3->line-bot-sdk==3.14.2->-r requirements.txt (line 4)) (1.14.0)\n",
      "Requirement already satisfied: charset-normalizer<4,>=2 in /home/ilmsg/.local/lib/python3.11/site-packages (from requests<3,>=2.32.3->line-bot-sdk==3.14.2->-r requirements.txt (line 4)) (3.4.0)\n",
      "Requirement already satisfied: idna<4,>=2.5 in /usr/lib/python3/dist-packages (from requests<3,>=2.32.3->line-bot-sdk==3.14.2->-r requirements.txt (line 4)) (2.8)\n",
      "Requirement already satisfied: certifi>=2017.4.17 in /usr/lib/python3/dist-packages (from requests<3,>=2.32.3->line-bot-sdk==3.14.2->-r requirements.txt (line 4)) (2019.11.28)\n",
      "Requirement already satisfied: wrapt<2,>=1.10 in /home/ilmsg/.local/lib/python3.11/site-packages (from Deprecated->line-bot-sdk==3.14.2->-r requirements.txt (line 4)) (1.17.0)\n",
      "Requirement already satisfied: httplib2<1.dev0,>=0.19.0 in /home/ilmsg/.local/lib/python3.11/site-packages (from google-api-python-client->google-generativeai==0.8.3->-r requirements.txt (line 2)) (0.22.0)\n",
      "Requirement already satisfied: google-auth-httplib2<1.0.0,>=0.2.0 in /home/ilmsg/.local/lib/python3.11/site-packages (from google-api-python-client->google-generativeai==0.8.3->-r requirements.txt (line 2)) (0.2.0)\n",
      "Requirement already satisfied: uritemplate<5,>=3.0.1 in /home/ilmsg/.local/lib/python3.11/site-packages (from google-api-python-client->google-generativeai==0.8.3->-r requirements.txt (line 2)) (4.1.1)\n",
      "Requirement already satisfied: grpcio<2.0dev,>=1.33.2 in /home/ilmsg/.local/lib/python3.11/site-packages (from google-api-core[grpc]!=2.0.*,!=2.1.*,!=2.10.*,!=2.2.*,!=2.3.*,!=2.4.*,!=2.5.*,!=2.6.*,!=2.7.*,!=2.8.*,!=2.9.*,<3.0.0dev,>=1.34.1->google-ai-generativelanguage==0.6.10->google-generativeai==0.8.3->-r requirements.txt (line 2)) (1.68.1)\n",
      "Requirement already satisfied: grpcio-status<2.0.dev0,>=1.33.2 in /home/ilmsg/.local/lib/python3.11/site-packages (from google-api-core[grpc]!=2.0.*,!=2.1.*,!=2.10.*,!=2.2.*,!=2.3.*,!=2.4.*,!=2.5.*,!=2.6.*,!=2.7.*,!=2.8.*,!=2.9.*,<3.0.0dev,>=1.34.1->google-ai-generativelanguage==0.6.10->google-generativeai==0.8.3->-r requirements.txt (line 2)) (1.68.1)\n",
      "Requirement already satisfied: pyparsing!=3.0.0,!=3.0.1,!=3.0.2,!=3.0.3,<4,>=2.4.2 in /usr/lib/python3/dist-packages (from httplib2<1.dev0,>=0.19.0->google-api-python-client->google-generativeai==0.8.3->-r requirements.txt (line 2)) (2.4.6)\n",
      "Requirement already satisfied: pyasn1>=0.1.3 in /usr/lib/python3/dist-packages (from rsa<5,>=3.1.4->google-auth>=2.15.0->google-generativeai==0.8.3->-r requirements.txt (line 2)) (0.4.2)\n",
      "Note: you may need to restart the kernel to use updated packages.\n"
     ]
    }
   ],
   "source": [
    "%pip install -r requirements.txt --break-system-packages"
   ]
  },
  {
   "cell_type": "code",
   "execution_count": 6,
   "metadata": {},
   "outputs": [
    {
     "name": "stdout",
     "output_type": "stream",
     "text": [
      "The dotenv extension is already loaded. To reload it, use:\n",
      "  %reload_ext dotenv\n"
     ]
    }
   ],
   "source": [
    "%load_ext dotenv\n",
    "%dotenv"
   ]
  },
  {
   "cell_type": "code",
   "execution_count": 7,
   "metadata": {},
   "outputs": [],
   "source": [
    "import os\n",
    "import json\n",
    "from flask import Flask, request, abort\n",
    "from collections import deque\n",
    "\n",
    "import google.generativeai as genai\n",
    "\n",
    "from linebot.v3 import (\n",
    "    WebhookHandler\n",
    ")\n",
    "from linebot.v3.exceptions import (\n",
    "    InvalidSignatureError\n",
    ")\n",
    "from linebot.v3.messaging import (\n",
    "    Configuration,\n",
    "    ApiClient,\n",
    "    MessagingApi,\n",
    "    ReplyMessageRequest,\n",
    "    TextMessage\n",
    ")\n",
    "from linebot.v3.webhooks import (\n",
    "    MessageEvent,\n",
    "    TextMessageContent\n",
    ")"
   ]
  },
  {
   "cell_type": "code",
   "execution_count": 8,
   "metadata": {},
   "outputs": [],
   "source": [
    "LINE_CHANNEL_SECRET = os.environ['LINE_CHANNEL_SECRET']\n",
    "LINE_CHANNEL_TOKEN = os.environ['LINE_CHANNEL_TOKEN']\n",
    "GENAI_API_KEY = os.environ['GENAI_API_KEY']"
   ]
  },
  {
   "cell_type": "code",
   "execution_count": 9,
   "metadata": {},
   "outputs": [],
   "source": [
    "genai.configure(api_key=GENAI_API_KEY)\n",
    "model = genai.GenerativeModel(model_name=\"gemini-1.5-flash-002\")"
   ]
  },
  {
   "cell_type": "code",
   "execution_count": 10,
   "metadata": {},
   "outputs": [],
   "source": [
    "app = Flask(__name__)\n",
    "\n",
    "configuration = Configuration(access_token=LINE_CHANNEL_TOKEN)\n",
    "handler = WebhookHandler(LINE_CHANNEL_SECRET)"
   ]
  },
  {
   "cell_type": "code",
   "execution_count": 11,
   "metadata": {},
   "outputs": [],
   "source": [
    "MAX_HISTORY = 10\n",
    "conversation_history = {}"
   ]
  },
  {
   "cell_type": "code",
   "execution_count": 12,
   "metadata": {},
   "outputs": [],
   "source": [
    "@app.route(\"/callback\", methods=['POST'])\n",
    "def callback():\n",
    "    signature = request.headers['X-Line-Signature']\n",
    "    body = request.get_data(as_text=True)\n",
    "    app.logger.info(\"Request body: \" + body)\n",
    "    \n",
    "    try:\n",
    "        handler.handle(body, signature)\n",
    "    except InvalidSignatureError:\n",
    "        app.logger.info(\"Invalid signature. Please check your channel\")\n",
    "        abort(400)\n",
    "    \n",
    "    return 'OK'"
   ]
  },
  {
   "cell_type": "code",
   "execution_count": 13,
   "metadata": {},
   "outputs": [],
   "source": [
    "@handler.add(MessageEvent, message=TextMessageContent)\n",
    "def handle_message(event):\n",
    "    with ApiClient(configuration) as api_client:\n",
    "        user_id = event.source.user_id\n",
    "        user_message = event.message.text\n",
    "        \n",
    "        if user_message.lower() == \"/clear\":\n",
    "            if user_id in conversation_history:\n",
    "                conversation_history[user_id].clear\n",
    "            response_text = \"\"\n",
    "        else:\n",
    "            if user_id not in conversation_history:\n",
    "                conversation_history[user_id] = deque(maxlen=MAX_HISTORY)\n",
    "        \n",
    "        conversation_history[user_id].append(\n",
    "            {\"role\": \"user\", \"parts\": [user_message]}\n",
    "        )\n",
    "        \n",
    "        conversations = list(conversation_history[user_id])\n",
    "        \n",
    "        gemini_resp = model.generate_content(conversations)\n",
    "        resp_text = gemini_resp.text\n",
    "\n",
    "        conversation_history[user_id].append(\n",
    "            {\"role\": \"model\", \"parts\": [resp_text]}\n",
    "        )\n",
    "        \n",
    "        dump_conversation_history = json.dumps(list(conversation_history[user_id]))\n",
    "        app.logger.info(f\"Conversation history for user {user_id}: {dump_conversation_history}\")\n",
    "        \n",
    "        line_bot_api = MessagingApi(api_client)\n",
    "        line_bot_api.reply_message_with_http_info(\n",
    "            ReplyMessageRequest(\n",
    "                reply_token=event.reply_token,\n",
    "                messages=[TextMessage(text=resp_text)]\n",
    "            )\n",
    "        )"
   ]
  },
  {
   "cell_type": "code",
   "execution_count": 14,
   "metadata": {},
   "outputs": [
    {
     "name": "stdout",
     "output_type": "stream",
     "text": [
      " * Serving Flask app '__main__'\n",
      " * Debug mode: off\n"
     ]
    },
    {
     "name": "stderr",
     "output_type": "stream",
     "text": [
      "WARNING: This is a development server. Do not use it in a production deployment. Use a production WSGI server instead.\n",
      " * Running on http://127.0.0.1:5000\n",
      "Press CTRL+C to quit\n"
     ]
    }
   ],
   "source": [
    "app.run()"
   ]
  },
  {
   "cell_type": "code",
   "execution_count": null,
   "metadata": {},
   "outputs": [],
   "source": []
  }
 ],
 "metadata": {
  "kernelspec": {
   "display_name": "Python 3",
   "language": "python",
   "name": "python3"
  },
  "language_info": {
   "codemirror_mode": {
    "name": "ipython",
    "version": 3
   },
   "file_extension": ".py",
   "mimetype": "text/x-python",
   "name": "python",
   "nbconvert_exporter": "python",
   "pygments_lexer": "ipython3",
   "version": "3.11.11"
  }
 },
 "nbformat": 4,
 "nbformat_minor": 2
}
