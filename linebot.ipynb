{
 "cells": [
  {
   "cell_type": "markdown",
   "metadata": {},
   "source": [
    "#### เตรียมพร้อม, ติดตั้ง library, ตั้งค่าไพล์ .env"
   ]
  },
  {
   "cell_type": "code",
   "execution_count": 4,
   "metadata": {},
   "outputs": [],
   "source": [
    "%cp --update=none .env.example .env"
   ]
  },
  {
   "cell_type": "code",
   "execution_count": 5,
   "metadata": {},
   "outputs": [
    {
     "name": "stdout",
     "output_type": "stream",
     "text": [
      "Defaulting to user installation because normal site-packages is not writeable\n",
      "Requirement already satisfied: python-dotenv in /home/ilmsg/.local/lib/python3.12/site-packages (1.0.1)\n",
      "Note: you may need to restart the kernel to use updated packages.\n",
      "Defaulting to user installation because normal site-packages is not writeable\n",
      "Requirement already satisfied: flask in /usr/lib/python3/dist-packages (3.0.2)\n",
      "Requirement already satisfied: Werkzeug>=3.0.0 in /home/ilmsg/.local/lib/python3.12/site-packages (from flask) (3.1.3)\n",
      "Requirement already satisfied: Jinja2>=3.1.2 in /home/ilmsg/.local/lib/python3.12/site-packages (from flask) (3.1.2)\n",
      "Requirement already satisfied: itsdangerous>=2.1.2 in /usr/lib/python3/dist-packages (from flask) (2.1.2)\n",
      "Requirement already satisfied: click>=8.1.3 in /usr/lib/python3/dist-packages (from flask) (8.1.6)\n",
      "Requirement already satisfied: blinker>=1.6.2 in /usr/lib/python3/dist-packages (from flask) (1.7.0)\n",
      "Requirement already satisfied: MarkupSafe>=2.0 in /home/ilmsg/.local/lib/python3.12/site-packages (from Jinja2>=3.1.2->flask) (3.0.2)\n",
      "Note: you may need to restart the kernel to use updated packages.\n",
      "Defaulting to user installation because normal site-packages is not writeable\n",
      "Requirement already satisfied: line-bot-sdk in /home/ilmsg/.local/lib/python3.12/site-packages (3.11.0)\n",
      "Requirement already satisfied: requests==2.31.0 in /home/ilmsg/.local/lib/python3.12/site-packages (from line-bot-sdk) (2.31.0)\n",
      "Requirement already satisfied: urllib3<3,>=2.0.5 in /home/ilmsg/.local/lib/python3.12/site-packages (from line-bot-sdk) (2.0.7)\n",
      "Requirement already satisfied: aiohttp==3.9.5 in /home/ilmsg/.local/lib/python3.12/site-packages (from line-bot-sdk) (3.9.5)\n",
      "Requirement already satisfied: future in /home/ilmsg/.local/lib/python3.12/site-packages (from line-bot-sdk) (1.0.0)\n",
      "Requirement already satisfied: pydantic<3,>=2.0.3 in /home/ilmsg/.local/lib/python3.12/site-packages (from line-bot-sdk) (2.9.2)\n",
      "Requirement already satisfied: aenum>=3.1.11 in /home/ilmsg/.local/lib/python3.12/site-packages (from line-bot-sdk) (3.1.15)\n",
      "Requirement already satisfied: python-dateutil>=2.5.3 in /home/ilmsg/.local/lib/python3.12/site-packages (from line-bot-sdk) (2.8.2)\n",
      "Requirement already satisfied: Deprecated in /home/ilmsg/.local/lib/python3.12/site-packages (from line-bot-sdk) (1.2.14)\n",
      "Requirement already satisfied: aiosignal>=1.1.2 in /home/ilmsg/.local/lib/python3.12/site-packages (from aiohttp==3.9.5->line-bot-sdk) (1.3.1)\n",
      "Requirement already satisfied: attrs>=17.3.0 in /home/ilmsg/.local/lib/python3.12/site-packages (from aiohttp==3.9.5->line-bot-sdk) (23.2.0)\n",
      "Requirement already satisfied: frozenlist>=1.1.1 in /home/ilmsg/.local/lib/python3.12/site-packages (from aiohttp==3.9.5->line-bot-sdk) (1.4.1)\n",
      "Requirement already satisfied: multidict<7.0,>=4.5 in /home/ilmsg/.local/lib/python3.12/site-packages (from aiohttp==3.9.5->line-bot-sdk) (6.0.5)\n",
      "Requirement already satisfied: yarl<2.0,>=1.0 in /home/ilmsg/.local/lib/python3.12/site-packages (from aiohttp==3.9.5->line-bot-sdk) (1.9.4)\n",
      "Requirement already satisfied: charset-normalizer<4,>=2 in /home/ilmsg/.local/lib/python3.12/site-packages (from requests==2.31.0->line-bot-sdk) (3.3.2)\n",
      "Requirement already satisfied: idna<4,>=2.5 in /home/ilmsg/.local/lib/python3.12/site-packages (from requests==2.31.0->line-bot-sdk) (3.7)\n",
      "Requirement already satisfied: certifi>=2017.4.17 in /home/ilmsg/.local/lib/python3.12/site-packages (from requests==2.31.0->line-bot-sdk) (2024.6.2)\n",
      "Requirement already satisfied: annotated-types>=0.6.0 in /home/ilmsg/.local/lib/python3.12/site-packages (from pydantic<3,>=2.0.3->line-bot-sdk) (0.7.0)\n",
      "Requirement already satisfied: pydantic-core==2.23.4 in /home/ilmsg/.local/lib/python3.12/site-packages (from pydantic<3,>=2.0.3->line-bot-sdk) (2.23.4)\n",
      "Requirement already satisfied: typing-extensions>=4.6.1 in /home/ilmsg/.local/lib/python3.12/site-packages (from pydantic<3,>=2.0.3->line-bot-sdk) (4.12.2)\n",
      "Requirement already satisfied: six>=1.5 in /home/ilmsg/.local/lib/python3.12/site-packages (from python-dateutil>=2.5.3->line-bot-sdk) (1.16.0)\n",
      "Requirement already satisfied: wrapt<2,>=1.10 in /home/ilmsg/.local/lib/python3.12/site-packages (from Deprecated->line-bot-sdk) (1.16.0)\n",
      "Note: you may need to restart the kernel to use updated packages.\n"
     ]
    }
   ],
   "source": [
    "%pip install python-dotenv --break-system-packages\n",
    "%pip install flask --break-system-packages\n",
    "%pip install line-bot-sdk --break-system-packages"
   ]
  },
  {
   "cell_type": "code",
   "execution_count": 6,
   "metadata": {},
   "outputs": [
    {
     "name": "stdout",
     "output_type": "stream",
     "text": [
      "The dotenv extension is already loaded. To reload it, use:\n",
      "  %reload_ext dotenv\n"
     ]
    }
   ],
   "source": [
    "%load_ext dotenv\n",
    "%dotenv"
   ]
  },
  {
   "cell_type": "code",
   "execution_count": 7,
   "metadata": {},
   "outputs": [],
   "source": [
    "import os\n",
    "from flask import Flask, request, abort\n",
    "\n",
    "from linebot.v3 import (\n",
    "    WebhookHandler\n",
    ")\n",
    "from linebot.v3.exceptions import (\n",
    "    InvalidSignatureError\n",
    ")\n",
    "from linebot.v3.messaging import (\n",
    "    Configuration,\n",
    "    ApiClient,\n",
    "    MessagingApi,\n",
    "    ReplyMessageRequest,\n",
    "    TextMessage\n",
    ")\n",
    "from linebot.v3.webhooks import (\n",
    "    MessageEvent,\n",
    "    TextMessageContent\n",
    ")"
   ]
  },
  {
   "cell_type": "code",
   "execution_count": 8,
   "metadata": {},
   "outputs": [],
   "source": [
    "LINE_CHANNEL_SECRET = os.environ['LINE_CHANNEL_SECRET']\n",
    "LINE_CHANNEL_TOKEN = os.environ['LINE_CHANNEL_TOKEN']"
   ]
  },
  {
   "cell_type": "code",
   "execution_count": 10,
   "metadata": {},
   "outputs": [
    {
     "name": "stdout",
     "output_type": "stream",
     "text": [
      " * Serving Flask app '__main__'\n",
      " * Debug mode: off\n"
     ]
    },
    {
     "name": "stderr",
     "output_type": "stream",
     "text": [
      "WARNING: This is a development server. Do not use it in a production deployment. Use a production WSGI server instead.\n",
      " * Running on http://127.0.0.1:5000\n",
      "Press CTRL+C to quit\n",
      "127.0.0.1 - - [12/Dec/2024 16:20:01] \"POST /callback HTTP/1.1\" 200 -\n",
      "127.0.0.1 - - [12/Dec/2024 16:20:21] \"POST /callback HTTP/1.1\" 200 -\n"
     ]
    }
   ],
   "source": [
    "app = Flask(__name__)\n",
    "\n",
    "configuration = Configuration(access_token=LINE_CHANNEL_TOKEN)\n",
    "handler = WebhookHandler(LINE_CHANNEL_SECRET)\n",
    "\n",
    "@app.route(\"/callback\", methods=['POST'])\n",
    "def callback():\n",
    "    signature = request.headers['X-Line-Signature']\n",
    "    body = request.get_data(as_text=True)\n",
    "    app.logger.info(\"Request body: \" + body)\n",
    "    \n",
    "    try:\n",
    "        handler.handle(body, signature)\n",
    "    except InvalidSignatureError:\n",
    "        app.logger.info(\"Invalid signature. Please check your channel\")\n",
    "        abort(400)\n",
    "    \n",
    "    return 'OK'\n",
    "\n",
    "@handler.add(MessageEvent, message=TextMessageContent)\n",
    "def handle_message(event):\n",
    "    with ApiClient(configuration) as api_client:\n",
    "        line_bot_api = MessagingApi(api_client)\n",
    "        line_bot_api.reply_message_with_http_info(\n",
    "            ReplyMessageRequest(\n",
    "                reply_token=event.reply_token,\n",
    "                messages=[TextMessage(text=event.message.text)]\n",
    "            )\n",
    "        )\n",
    "        \n",
    "app.run()"
   ]
  },
  {
   "cell_type": "code",
   "execution_count": null,
   "metadata": {},
   "outputs": [],
   "source": []
  }
 ],
 "metadata": {
  "kernelspec": {
   "display_name": "Python 3",
   "language": "python",
   "name": "python3"
  },
  "language_info": {
   "codemirror_mode": {
    "name": "ipython",
    "version": 3
   },
   "file_extension": ".py",
   "mimetype": "text/x-python",
   "name": "python",
   "nbconvert_exporter": "python",
   "pygments_lexer": "ipython3",
   "version": "3.12.3"
  }
 },
 "nbformat": 4,
 "nbformat_minor": 2
}
